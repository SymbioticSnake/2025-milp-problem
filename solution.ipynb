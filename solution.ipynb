{
 "cells": [
  {
   "cell_type": "markdown",
   "id": "aed46a8e-1716-492f-a8a3-f34655c6ae40",
   "metadata": {},
   "source": [
    "To begin, we first need to import the necessary libraries:"
   ]
  },
  {
   "cell_type": "code",
   "execution_count": 1,
   "id": "f7701a4c-c06f-4d26-9d27-ca88e9c3c577",
   "metadata": {},
   "outputs": [],
   "source": [
    "import geopandas as gpd\n",
    "import numpy as np\n",
    "import shapely as shp\n",
    "import pyomo.environ as pyo"
   ]
  },
  {
   "cell_type": "markdown",
   "id": "881ff629-f531-425f-9006-2c4d474c94a0",
   "metadata": {},
   "source": [
    "Next, we need to read the file and inspect the data. We check for:\n",
    "1. The number of polygons\n",
    "2. The minimum, average, and maximum areas of each polygon\n",
    "3. The range of *carbon_store* and *cost* properties, defined as the difference in max and min values of each property"
   ]
  },
  {
   "cell_type": "code",
   "execution_count": 27,
   "id": "b56ec7fc-7dc8-4c6e-9fbc-c1c11fafbc7d",
   "metadata": {},
   "outputs": [
    {
     "name": "stdout",
     "output_type": "stream",
     "text": [
      "Number of polygons: 100\n",
      "Minimum area (km^2): 37.37824723691204\n",
      "Average area (km^2): 80.54003288468247\n",
      "Maximum area (km^2): 132.0955428630858\n",
      "carbon_store range: 89.82436510414392\n",
      "cost range: 4457.482333726783\n"
     ]
    }
   ],
   "source": [
    "parcels = gpd.read_file(\"land_parcels.shp\").to_crs('EPSG:3347')\n",
    "parcels['area'] = parcels.area / ((10 ** 3) ** 2)\n",
    "\n",
    "# Print minimum area\n",
    "print(\"Number of polygons:\", len(parcels['parcel_id']))\n",
    "\n",
    "print(\"Minimum area (km^2):\", min(parcels['area']))\n",
    "print(\"Average area (km^2):\", np.average(parcels['area']))\n",
    "print(\"Maximum area (km^2):\", max(parcels['area']))\n",
    "\n",
    "print(\"carbon_store range:\", max(parcels['carbon_sto']) - min(parcels['carbon_sto']))\n",
    "print(\"cost range:\", max(parcels['cost']) - min(parcels['cost']))"
   ]
  },
  {
   "cell_type": "markdown",
   "id": "ad1f36ab-6b22-4153-804f-35948e588206",
   "metadata": {},
   "source": [
    "We then check for and remove outliers in the data. Outliers are defined as any parcel with an area less than three times the interquartile range of the parcels' areas."
   ]
  },
  {
   "cell_type": "code",
   "execution_count": 5,
   "id": "d2ab1955-830e-4b9e-9ae1-0bb5960995a6",
   "metadata": {},
   "outputs": [
    {
     "name": "stdout",
     "output_type": "stream",
     "text": [
      "0 outliers detected and removed\n"
     ]
    }
   ],
   "source": [
    "q1 = np.percentile(parcels['area'], 25)\n",
    "q3 = np.percentile(parcels['area'], 75)\n",
    "iqr = q3 - q1\n",
    "range_min = q1 - 3 * iqr\n",
    "\n",
    "count = 0\n",
    "for index, row in parcels.iterrows():\n",
    "    if row['area'] < range_min:\n",
    "        parcels.drop(index, inplace=True)\n",
    "        count += 1\n",
    "\n",
    "print(count, \"outliers detected and removed\")"
   ]
  },
  {
   "cell_type": "markdown",
   "id": "061c5fb2-c7e1-4bd8-8969-bfe77c7c8758",
   "metadata": {},
   "source": [
    "Next, we construct the adjacency list. From visually inspecting the data, each polygon is made of four points, with the fifth point indicating the end of the polygon. Adjacent edges occur when two polygons share at least one pair of consecutive coordinates. Note that one polygon's pair could be in the same order as the second polygon's pair or in reverse order.\n",
    "\n",
    "The following code creates the adjacency list by checking whether each polygon shares pairs of consecutive coordinates with every remaining polygon. The parcel_id of the polygon being checked is added to the remaining polygon's sublist in the adjacency list."
   ]
  },
  {
   "cell_type": "code",
   "execution_count": 7,
   "id": "598f000c-903e-42b7-9510-ced082981e7e",
   "metadata": {},
   "outputs": [],
   "source": [
    "def adjacency_build_helper(coords1, coords2):\n",
    "    match = False\n",
    "    curr_idx = 0\n",
    "    while (not match) and curr_idx < 4:\n",
    "        current = (coords1[curr_idx], coords1[curr_idx + 1])\n",
    "        for nextIdx in range(4):\n",
    "            if (np.array_equal(current[0], coords2[nextIdx]) and np.array_equal(current[1], coords2[nextIdx + 1]) or\n",
    "                    np.array_equal(current[0], coords2[nextIdx + 1]) and np.array_equal(current[1], coords2[nextIdx])):\n",
    "                match = True\n",
    "                break\n",
    "        curr_idx += 1\n",
    "    return match\n",
    "\n",
    "coordinates = [shp.get_coordinates(geo) for geo in parcels['geometry']]\n",
    "adjacency_list = dict()\n",
    "for i in range(100 - count):\n",
    "    adjacents = []\n",
    "    for j in range(99 - count):\n",
    "        if adjacency_build_helper(coordinates[i], coordinates[(i + j + 1) % 100]): adjacents.append((i + j + 1) % 100)\n",
    "    adjacency_list[i] = adjacents"
   ]
  },
  {
   "cell_type": "markdown",
   "id": "184848fb-29b1-49b9-8b13-18879a1c3cea",
   "metadata": {},
   "source": [
    "Lastly, we use Pyomo to create and solve the optimization problem. We construct the necessary dictionaries for Pyomo to use as variables (the numbers Pyomo modifies to optimize the problem) and parameters (the numbers Pyomo leaves alone as constants).\n",
    "\n",
    "The costs, areas, carbon stores, and adjacency list are set as parameters while the variables are set as whether the parcels are being selected (0 for not selected, 1 as selected)."
   ]
  },
  {
   "cell_type": "code",
   "execution_count": 9,
   "id": "4fa5584e-c227-4019-8ead-f1edd29b8d37",
   "metadata": {},
   "outputs": [
    {
     "name": "stdout",
     "output_type": "stream",
     "text": [
      "WARNING: DEPRECATED: Param 'adjacency_list' declared with an implicit domain\n",
      "of 'Any'. The default domain for Param objects is 'Any'.  However, we will be\n",
      "changing that default to 'Reals' in the future.  If you really intend the\n",
      "domain of this Paramto be 'Any', you can suppress this warning by explicitly\n",
      "specifying 'within=Any' to the Param constructor.  (deprecated in 5.6.9, will\n",
      "be removed in (or after) 6.0) (called from C:\\Users\\danan\\anaconda3\\Lib\\site-\n",
      "packages\\pyomo\\core\\base\\indexed_component.py:718)\n"
     ]
    }
   ],
   "source": [
    "full_cost = sum(parcels['cost'])\n",
    "full_area = sum(parcels['area'])\n",
    "parcels_dict = parcels.to_dict()\n",
    "\n",
    "parcel_costs_init = parcels_dict['cost']\n",
    "parcel_areas_init = parcels_dict['area']\n",
    "parcel_carbon_stores_init = parcels_dict['carbon_sto']\n",
    "parcel_selection_init = dict([(parcel_id, 0) for parcel_id in parcel_costs_init.keys()])\n",
    "\n",
    "model = pyo.ConcreteModel()\n",
    "\n",
    "model.parcels_id = pyo.Set(initialize=parcel_selection_init.keys())\n",
    "model.parcels_area = pyo.Param(model.parcels_id, initialize=parcel_areas_init)\n",
    "model.parcels_cost = pyo.Param(model.parcels_id, initialize=parcel_costs_init)\n",
    "model.carbon_stores = pyo.Param(model.parcels_id, initialize=parcel_carbon_stores_init)\n",
    "model.adjacency_list = pyo.Param(model.parcels_id, initialize=adjacency_list)\n",
    "\n",
    "model.selection = pyo.Var(model.parcels_id, domain=pyo.Binary, initialize=parcel_selection_init)"
   ]
  },
  {
   "cell_type": "markdown",
   "id": "6ea86865-411d-442e-acb3-666f55b01d61",
   "metadata": {},
   "source": [
    "As mentioned in the problem document, the objective is to find the polygons that produce the maximum carbon store under specific constraints. We define this in Pyomo below:"
   ]
  },
  {
   "cell_type": "code",
   "execution_count": 19,
   "id": "da318db9-7d62-4987-99b6-e826fd725f7b",
   "metadata": {},
   "outputs": [
    {
     "name": "stdout",
     "output_type": "stream",
     "text": [
      "WARNING: Implicitly replacing the Component attribute objective (type=<class\n",
      "'pyomo.core.base.objective.ScalarObjective'>) on block unknown with a new\n",
      "Component (type=<class 'pyomo.core.base.objective.ScalarObjective'>). This is\n",
      "usually indicative of a modelling error. To avoid this warning, use\n",
      "block.del_component() and block.add_component().\n"
     ]
    }
   ],
   "source": [
    "model.objective = pyo.Objective(expr=sum(model.carbon_stores[parcel_id] * model.selection[parcel_id]\n",
    "                                         for parcel_id in model.parcels_id),\n",
    "                                sense=pyo.maximize)"
   ]
  },
  {
   "cell_type": "markdown",
   "id": "7a7001ab-fc99-447e-9f37-e5b7723d4968",
   "metadata": {},
   "source": [
    "Next, we define the constraints as mentioned in the project manual."
   ]
  },
  {
   "cell_type": "code",
   "execution_count": 21,
   "id": "ce2320f5-462b-4798-9443-d86ac448c517",
   "metadata": {},
   "outputs": [
    {
     "name": "stdout",
     "output_type": "stream",
     "text": [
      "WARNING: Implicitly replacing the Component attribute constraint_budget\n",
      "(type=<class 'pyomo.core.base.constraint.ScalarConstraint'>) on block unknown\n",
      "with a new Component (type=<class\n",
      "'pyomo.core.base.constraint.AbstractScalarConstraint'>). This is usually\n",
      "indicative of a modelling error. To avoid this warning, use\n",
      "block.del_component() and block.add_component().\n",
      "WARNING: Implicitly replacing the Component attribute constraint_adjacency\n",
      "(type=<class 'pyomo.core.base.constraint.ScalarConstraint'>) on block unknown\n",
      "with a new Component (type=<class\n",
      "'pyomo.core.base.constraint.AbstractScalarConstraint'>). This is usually\n",
      "indicative of a modelling error. To avoid this warning, use\n",
      "block.del_component() and block.add_component().\n"
     ]
    }
   ],
   "source": [
    "# Constraint 1: Cost of all selected polygons is less than 0.5 total cost of remaining parcels after filtering\n",
    "model.constraint_budget = pyo.Constraint(\n",
    "    expr=sum([model.selection[id] * model.parcels_cost[id] for id in model.parcels_id]) <= 0.5 * full_cost)\n",
    "\n",
    "\n",
    "# Constraint 2: No two selected polygons are adjacent to each other\n",
    "def constraint_2(model):\n",
    "    any_adjacency = pyo.Constraint.Feasible\n",
    "    list_id = 0\n",
    "\n",
    "    while list_id < len(model.parcels_id) and not any_adjacency:\n",
    "        if pyo.value(model.selection[list_id]) == 1:\n",
    "            for parcel_id in model.parcels_id:\n",
    "                if pyo.value(model.selection[parcel_id]) == 1 and parcel_id in model.adjacency_list[list_id]:\n",
    "                    any_adjacency = pyo.Constraint.Infeasible\n",
    "                    break\n",
    "        list_id += 1\n",
    "\n",
    "    return any_adjacency\n",
    "model.constraint_adjacency = pyo.Constraint(expr=constraint_2(model))\n",
    "\n",
    "# (Optional) Constraint 3: Total area must be at least 25% of the total area of remaining parcels after filtering\n",
    "# model.constraint_area = pyo.Constraint(\n",
    "#     expr=sum([model.selection[id] * model.parcels_area[id] for id in model.parcels_id]) >= 0.25 * full_area)"
   ]
  },
  {
   "cell_type": "markdown",
   "id": "c4167d6f-90c5-4b3f-b859-af98c4b2d01d",
   "metadata": {},
   "source": [
    "Lastly, we define the solver used by Pyomo as our GLPK installation, solve the model, and output the polygons used, their total cost, and total ``carbon_store``."
   ]
  },
  {
   "cell_type": "code",
   "execution_count": 29,
   "id": "a54bbe01-3e38-4fd0-8f1f-08b1ddfb6686",
   "metadata": {},
   "outputs": [
    {
     "name": "stdout",
     "output_type": "stream",
     "text": [
      "Polygons: 3 6 9 10 11 13 14 16 19 20 22 23 25 26 27 29 30 31 33 34 35 36 39 40 43 44 45 46 48 49 52 53 54 55 56 57 59 60 64 65 66 67 69 70 71 73 74 77 78 79 81 83 84 85 86 88 91 92 93 96 99 \n",
      "Total cost 140757.06548124866\n",
      "Total carbon_store: 4350.825955966731\n"
     ]
    }
   ],
   "source": [
    "solver = pyo.SolverFactory('glpk', executable=\"C:\\\\glpk-4.65\\\\w64\\\\glpsol\")\n",
    "results = solver.solve(model)\n",
    "\n",
    "print(\"Polygons:\", end=\" \")\n",
    "final_cost = 0\n",
    "for i, j in model.selection.items():\n",
    "    if pyo.value(j) == 1:\n",
    "        print(i, end=\" \")\n",
    "        final_cost += pyo.value(model.parcels_cost[i])\n",
    "print(\"\\nTotal cost\", final_cost)\n",
    "\n",
    "print(\"Total carbon_store:\" , pyo.value(model.objective))"
   ]
  },
  {
   "cell_type": "markdown",
   "id": "c74e3d7e-8e27-4aec-9278-c4c6ac8fb834",
   "metadata": {},
   "source": [
    "# Report\n",
    "## Approach\n",
    "- No AI code was used, but several online resources were consulted for aid.\n",
    "## Methodology\n",
    "- Algorithms were brute force loops that iterated over every parcel until final output was constructed:\n",
    "  - Adjacency list was constructed by checking every pair of consecutive coordinates in one polygon with every pair of consecutive coordinates in every other polygon.\n",
    "## Challenges\n",
    "- Due to time constraints in real life, I was only able to accomplish this project during the weekend.\n",
    "- Learning about each library; I wanted to learn about each library on my own and understand them without the use of generative AI. Solution was to consult tutorials and online forums while inferring how each snippet of code ran and operated.\n",
    "- Troubleshooting code errors.\n",
    "## Key Results and Analysis\n",
    "- Some polygons outputted are adjacent to each other (e.g., 10, 20); can be inspected visually using Google Earth Pro.\n",
    "- Unable to plot results. List of polygons are given when code is run.\n",
    "- Given results:\n",
    "  - Total cost: 140757.06548124866\n",
    "  - Total carbon_store: 4350.825955966731\n",
    "## Analysis\n",
    "- Further revision required due to errors.\n",
    "  - Unknown error with adjacency constraint in model declaration; will need further revision.\n",
    "- Further optimization required.\n",
    "  - Algorithms were brute-force, with high time complexities ($O(n^4)$ for adjacency list construction). Deeper knowledge of algorithms would assist with improving time complexities."
   ]
  }
 ],
 "metadata": {
  "kernelspec": {
   "display_name": "uw_science-take_home",
   "language": "python",
   "name": "uw_science-take_home"
  },
  "language_info": {
   "codemirror_mode": {
    "name": "ipython",
    "version": 3
   },
   "file_extension": ".py",
   "mimetype": "text/x-python",
   "name": "python",
   "nbconvert_exporter": "python",
   "pygments_lexer": "ipython3",
   "version": "3.12.3"
  }
 },
 "nbformat": 4,
 "nbformat_minor": 5
}
